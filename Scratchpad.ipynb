{
 "cells": [
  {
   "cell_type": "code",
   "execution_count": 21,
   "id": "f5a1c4ab",
   "metadata": {},
   "outputs": [
    {
     "name": "stdout",
     "output_type": "stream",
     "text": [
      "The autoreload extension is already loaded. To reload it, use:\n",
      "  %reload_ext autoreload\n"
     ]
    }
   ],
   "source": [
    "%load_ext autoreload\n",
    "%autoreload 2"
   ]
  },
  {
   "cell_type": "code",
   "execution_count": 22,
   "id": "05019b75",
   "metadata": {},
   "outputs": [
    {
     "name": "stdout",
     "output_type": "stream",
     "text": [
      "tensor([[  1,   9, 375],\n",
      "        [  4,   7, 322],\n",
      "        [  3,   7, 375],\n",
      "        [  4,   7,  62]])\n"
     ]
    }
   ],
   "source": [
    "import core.get_rationales as get_rats\n",
    "import core.get_features as get_feats\n",
    "\n",
    "class_expectations, class_fitnesses, class_feature_map_idxs = get_feats.load_log(\"data/lines\")\n",
    "\n",
    "print(class_feature_map_idxs)"
   ]
  },
  {
   "cell_type": "code",
   "execution_count": 58,
   "id": "cd664234",
   "metadata": {},
   "outputs": [
    {
     "name": "stdout",
     "output_type": "stream",
     "text": [
      "64\n",
      "[[tensor(2.3315), tensor(0.4176), tensor(1.8571), tensor(1.6193)], [tensor(0.3206), tensor(4.5085), tensor(1.4950), tensor(0.9994)], [tensor(0.1533), tensor(0.2692), tensor(5.1348), tensor(1.3193)], [tensor(0.5211), tensor(0.2942), tensor(1.7720), tensor(6.0899)]]\n"
     ]
    }
   ],
   "source": [
    "print(len(class_expectations[0][0]))\n",
    "num_classes = len(class_feature_map_idxs)\n",
    "#rationale_output_expectations[i][j] := expectation of jth class's feature map for the ith class\n",
    "rationale_output_expectations = [[] for _ in range(num_classes)]\n",
    "for fitness, conv_idx, feature_map_idx in class_feature_map_idxs:\n",
    "    for class_idx in range(num_classes):\n",
    "        rationale_output_expectations[class_idx].append(class_expectations[conv_idx][class_idx][feature_map_idx])\n",
    "print(rationale_output_expectations)"
   ]
  },
  {
   "cell_type": "code",
   "execution_count": 23,
   "id": "eb27adfb",
   "metadata": {},
   "outputs": [],
   "source": [
    "from torchvision.models import vgg16\n",
    "import torch\n",
    "model = vgg16(pretrained = True)"
   ]
  },
  {
   "cell_type": "code",
   "execution_count": 24,
   "id": "a5885ef6",
   "metadata": {},
   "outputs": [],
   "source": [
    "import core.dataset\n",
    "class_datasets = [\n",
    "    core.dataset.Dataset(\"data/lines\", \"img_annotations.csv\",\n",
    "                         \"class_names.csv\", only_class_id, core.dataset.preprocess)\n",
    "    for only_class_id in [0, 1, 2, 3]\n",
    "]"
   ]
  },
  {
   "cell_type": "code",
   "execution_count": 53,
   "id": "09ec25b8",
   "metadata": {
    "scrolled": true
   },
   "outputs": [
    {
     "name": "stdout",
     "output_type": "stream",
     "text": [
      "torch.Size([1, 3, 256, 256])\n"
     ]
    },
    {
     "data": {
      "image/png": "[encoded data removed]",
      "text/plain": [
       "<PIL.Image.Image image mode=RGB size=256x256 at 0x7F9135BE0430>"
      ]
     },
     "execution_count": 53,
     "metadata": {},
     "output_type": "execute_result"
    }
   ],
   "source": [
    "from torchvision import transforms\n",
    "import torchvision\n",
    "class_idx, class_img_idx = 0, 0\n",
    "img, class_idx = class_datasets[class_idx][class_img_idx]\n",
    "print(img.unsqueeze(0).shape)\n",
    "t_img = transforms.ToPILImage()(img)\n",
    "t_img"
   ]
  },
  {
   "cell_type": "code",
   "execution_count": 54,
   "id": "54d70df2",
   "metadata": {},
   "outputs": [
    {
     "name": "stdout",
     "output_type": "stream",
     "text": [
      "tensor(9)\n",
      "tensor([[1.5640, 0.6754, 1.2815, 1.8420]])\n",
      "tensor([3])\n"
     ]
    }
   ],
   "source": [
    "deepest_class_feature_map_conv_idx = torch.max(class_feature_map_idxs[:,1])\n",
    "print(deepest_class_feature_map_conv_idx)\n",
    "multi_class_rationale = get_rats.get_rationale(model, deepest_class_feature_map_conv_idx)\n",
    "ClassifierNetwork = get_rats.rationale_to_classifier_network(multi_class_rationale, class_feature_map_idxs)\n",
    "classifier = ClassifierNetwork()\n",
    "logits = classifier(img.unsqueeze(0))\n",
    "selected_classes = torch.max(logits, dim = 1).indices\n",
    "print(logits)\n",
    "print(selected_classes)"
   ]
  }
 ],
 "metadata": {
  "kernelspec": {
   "display_name": "Python 3",
   "language": "python",
   "name": "python3"
  },
  "language_info": {
   "codemirror_mode": {
    "name": "ipython",
    "version": 3
   },
   "file_extension": ".py",
   "mimetype": "text/x-python",
   "name": "python",
   "nbconvert_exporter": "python",
   "pygments_lexer": "ipython3",
   "version": "3.8.10"
  }
 },
 "nbformat": 4,
 "nbformat_minor": 5
}
